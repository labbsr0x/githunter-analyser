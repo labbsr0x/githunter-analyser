{
 "cells": [
  {
   "cell_type": "code",
   "execution_count": 37,
   "outputs": [],
   "source": [
    "import numpy\n",
    "import requests\n",
    "import json\n",
    "import plotly.express as px\n",
    "import pandas as pd\n",
    "import datetime\n",
    "from numpy import ones,vstack\n",
    "from numpy.linalg import lstsq"
   ],
   "metadata": {
    "collapsed": false,
    "pycharm": {
     "name": "#%% imports\n"
    }
   }
  },
  {
   "cell_type": "code",
   "execution_count": 50,
   "outputs": [],
   "source": [
    "provider = \"521xueweihan_GitHub520\"\n",
    "nodes = ['pulls', 'issues', 'commits', 'comments']\n",
    "save_node = \"repositoryStats\"\n",
    "# nodes = ['pulls', 'issues']\n",
    "start_date = '2017-09-01T00:00:00-03:00'\n",
    "end_date = '2021-09-15T23:59:59-03:00'\n",
    "\n",
    "date_format = '%Y-%m-%dT%H:%M:%S%z'"
   ],
   "metadata": {
    "collapsed": false,
    "pycharm": {
     "name": "#%% params\n"
    }
   }
  },
  {
   "cell_type": "code",
   "execution_count": 39,
   "outputs": [],
   "source": [
    "def save_data(_provider, _data_api_params):\n",
    "    _data_api_url = f'https://githunter-bind-starws-r3.labbs.com.br/publish/provider/'+ _provider + '/node/' + save_node + '?createRawData=true'\n",
    "    _data_api_headers = {\n",
    "        'content-type': 'application/json'\n",
    "    }\n",
    "    _data_api_request = requests.post(_data_api_url, json=_data_api_params, headers=_data_api_headers)\n",
    "    _data = json.loads(_data_api_request.text)\n",
    "    return _data"
   ],
   "metadata": {
    "collapsed": false,
    "pycharm": {
     "name": "#%% save data\n"
    }
   }
  },
  {
   "cell_type": "code",
   "execution_count": 40,
   "outputs": [],
   "source": [
    "def load_data(_provider, _node, _start_date, _end_date):\n",
    "    _data_api_url = f'https://githunter-bind-starws-r3.labbs.com.br/metrics'\n",
    "    _data_api_params = {\n",
    "        'startDateTime': _start_date,\n",
    "        'endDateTime': _end_date,\n",
    "        'provider': _provider,\n",
    "        'node': _node\n",
    "    }\n",
    "    _data_api_headers = {\n",
    "        'content-type': 'application/json'\n",
    "    }\n",
    "    _data_api_request = requests.get(_data_api_url, params=_data_api_params, headers=_data_api_headers)\n",
    "\n",
    "    if _data_api_request.status_code != 200:\n",
    "        print('No data found in StarWS')\n",
    "        return None\n",
    "    else:\n",
    "        _data = json.loads(_data_api_request.text)['data']\n",
    "        # data_source = json.dumps(data, indent=4, sort_keys=True)\n",
    "        return _data"
   ],
   "metadata": {
    "collapsed": false,
    "pycharm": {
     "name": "#%% request data\n"
    }
   }
  },
  {
   "cell_type": "code",
   "execution_count": 41,
   "outputs": [],
   "source": [
    "def load_mongo_data(_repo_list):\n",
    "    _data_api_url = f'https://githunter-data-provider-r3.labbs.com.br/code-info'\n",
    "    _data_api_params = {\n",
    "        'repoList': _repo_list\n",
    "    }\n",
    "    _data_api_headers = {\n",
    "        'content-type': 'application/json'\n",
    "    }\n",
    "    _data_api_request = requests.get(_data_api_url, json=_data_api_params, headers=_data_api_headers)\n",
    "    _data = json.loads(_data_api_request.text)\n",
    "    # _data_source = json.dumps(_data, indent=4, sort_keys=True)\n",
    "    if 'data' in _data:\n",
    "        return _data['data']\n",
    "    elif 'repositories' in _data:\n",
    "        return _data['repositories']\n",
    "    return _data\n"
   ],
   "metadata": {
    "collapsed": false,
    "pycharm": {
     "name": "#%% request Mongo data\n"
    }
   }
  },
  {
   "cell_type": "code",
   "execution_count": 42,
   "outputs": [],
   "source": [
    "metrics = {\n",
    "    # frequency\n",
    "    \"commitFrequency\": [[366,0], [168,40], [48,60], [6,100]],\n",
    "    \"issuesRecent\": [[720,0],[360,20],[160,50],[48,80],[24,100]],\n",
    "    \"issuesGettingClosed\": [[720,0], [360,40], [160,80], [72,100]],\n",
    "    \"issuesClosedQuickly\": [[720,0], [504,40], [240,60], [120,100]],\n",
    "    \"issuesResponseQuickly\": [[336,0], [168,40], [48,50], [24,80],[2,100]],\n",
    "    \"pullsResponseQuickly\": [[336,0], [168,40], [48,50], [24,80],[2,100]],\n",
    "    \"pullsRecent\": [[720,0],[360,20],[160,50],[48,80],[24,100]],\n",
    "    \"pullsGettingMerged\": [[720,0], [360,40], [160,80], [72,100]],\n",
    "\n",
    "    #definition oos\n",
    "    \"readmeFileSize\": [[0,0], [3500,100]],\n",
    "\n",
    "    # popularity\n",
    "    \"numberOfContributors\": [[1,0], [50,30] ,[100,70], [200,100]],\n",
    "    \"numberOfIssues\": [[1,0], [50,30] ,[100,70], [200,100]],\n",
    "    \"numberOfPulls\": [[1,0], [50,30] ,[100,70], [200,100]]\n",
    "}\n",
    "\n",
    "def format_date(_date_string):\n",
    "    _date_obj = datetime.datetime.strptime(_date_string, date_format)\n",
    "    return _date_obj\n",
    "\n",
    "def average(_list):\n",
    "    if len(_list) > 0:\n",
    "        return sum(_list) / len(_list)\n",
    "    return 0\n",
    "\n",
    "def get_metric_percent(_metric, _value):\n",
    "    _btw_index = -1 # Last array position\n",
    "    for i, v in enumerate(metrics[_metric]):\n",
    "        if _value >= v[0]:\n",
    "            _btw_index = i\n",
    "            break\n",
    "    if _btw_index == 0:\n",
    "        return metrics[_metric][0][1] # returning minimal score\n",
    "    elif _btw_index == -1:\n",
    "        return metrics[_metric][-1][1] # returning maximal score\n",
    "\n",
    "    _point_0 = (metrics[_metric][i-1][0], metrics[_metric][i-1][1])\n",
    "    _point_1 = (metrics[_metric][i][0], metrics[_metric][i][1])\n",
    "    _points = [_point_0,_point_1]\n",
    "    _x_coords, _y_coords = zip(*_points)\n",
    "    _A = vstack([_x_coords,ones(len(_x_coords))]).T\n",
    "    _x, _c = lstsq(_A, _y_coords)[0]\n",
    "\n",
    "    _score = _x * _value + _c\n",
    "\n",
    "    return _score"
   ],
   "metadata": {
    "collapsed": false,
    "pycharm": {
     "name": "#%% Calculation Utils\n"
    }
   }
  },
  {
   "cell_type": "code",
   "execution_count": 43,
   "outputs": [],
   "source": [
    "def calc_frequency(_list):\n",
    "#     sort by date\n",
    "#     print(_list)\n",
    "    if len(_list) == 0:\n",
    "        return 0\n",
    "    _frequency = 0\n",
    "    for index, value in enumerate(_list):\n",
    "        if index == 0:\n",
    "            _date_a = datetime.datetime.now().replace(tzinfo=datetime.timezone.utc).astimezone(tz=None)\n",
    "        else:\n",
    "            _date_a = format_date(_list[index-1][0])\n",
    "        _date_b = format_date(_list[index][0])\n",
    "        _delta = _date_a - _date_b\n",
    "        if _delta.total_seconds() < 0:\n",
    "            _delta = _date_b - _date_a\n",
    "        # print(\"Delta: \",_date_a, _date_b, _delta)\n",
    "        _frequency = _frequency + _delta.total_seconds()\n",
    "    _frequency = (_frequency/len(_list)) / 60 / 60\n",
    "    return _frequency\n",
    "\n",
    "def frequency_calc_score(_list, _metric):\n",
    "    _frequency = calc_frequency(_list)\n",
    "    _score = get_metric_percent(_metric, _frequency)\n",
    "    return _score\n",
    "\n",
    "def frequency_calc_score_close_time_issue(_list_of_dict):\n",
    "    _comments = _list_of_dict['comments.data']\n",
    "    _frequency = []\n",
    "    for _i, _c in _comments.items():\n",
    "        if not _c:\n",
    "            continue\n",
    "        _closed_at = _list_of_dict['closedAt'].get(_i)\n",
    "        _sorted = sorted(_c, key=lambda x: format_date(x['createdAt']), reverse=True)\n",
    "        for _s in _sorted:\n",
    "            _diff = format_date(_closed_at) - format_date(_s['createdAt'])\n",
    "            # sometime the user say thanks then close the issue\n",
    "            if _diff.total_seconds() >= 30:\n",
    "                break\n",
    "        _score = get_metric_percent('issuesClosedQuickly', (_diff.total_seconds() / 60 / 60))\n",
    "        _frequency.append(_score)\n",
    "    return average(_frequency)\n",
    "\n",
    "def frequency_calc_score_response_time_issue(_list_of_dict):\n",
    "    _comments = _list_of_dict['comments.data']\n",
    "    _frequency = []\n",
    "    for _i, _c in _comments.items():\n",
    "        if not _c:\n",
    "            continue\n",
    "        _created_at = _list_of_dict['createdAt'].get(_i)\n",
    "        _sorted = sorted(_c, key=lambda x: format_date(x['createdAt']))\n",
    "        for _s in _sorted:\n",
    "            _diff = format_date(_created_at) - format_date(_s['createdAt'])\n",
    "            # sometime the user say thanks then close the issue\n",
    "            if _diff.total_seconds() >= 30:\n",
    "                break\n",
    "        _score = get_metric_percent('issuesResponseQuickly', (_diff.total_seconds() / 60 / 60))\n",
    "        _frequency.append(_score)\n",
    "    return average(_frequency)\n",
    "\n",
    "def frequency_calc_score_response_time_pull(_list_of_dict):\n",
    "    _comments = _list_of_dict['comments.data']\n",
    "    _frequency = []\n",
    "    for _i, _c in _comments.items():\n",
    "        if not _c:\n",
    "            continue\n",
    "        _created_at = _list_of_dict['createdAt'].get(_i)\n",
    "        _sorted = sorted(_c, key=lambda x: format_date(x['createdAt']))\n",
    "        for _s in _sorted:\n",
    "            _diff = format_date(_created_at) - format_date(_s['createdAt'])\n",
    "            # sometime the user say thanks then close the issue\n",
    "            if _diff.total_seconds() >= 30:\n",
    "                break\n",
    "        _score = get_metric_percent('issuesResponseQuickly', (_diff.total_seconds() / 60 / 60))\n",
    "        _frequency.append(_score)\n",
    "    return average(_frequency)"
   ],
   "metadata": {
    "collapsed": false,
    "pycharm": {
     "name": "#%% Calculation Frequency Score\n"
    }
   }
  },
  {
   "cell_type": "code",
   "execution_count": 44,
   "outputs": [],
   "source": [
    "def definition_oos_calc(_repo):\n",
    "    _definitionOSS = []\n",
    "\n",
    "    # Does it have a license?\n",
    "    if _repo['licenseInfo'] != \"\":\n",
    "        _definitionOSS.append(100)\n",
    "    else:\n",
    "        _definitionOSS.append(0)\n",
    "\n",
    "    # Does it have a Readme? Check the size (reference size repo Docker)\n",
    "    if _repo['hasReadmeFile']:\n",
    "        _score = 100\n",
    "        if not numpy.isnan(_repo['readmeFileSize']):\n",
    "            _score = get_metric_percent(\"readmeFileSize\", _repo['readmeFileSize'])\n",
    "        _definitionOSS.append(_score)\n",
    "    else:\n",
    "        _definitionOSS.append(0)\n",
    "\n",
    "    # Does it have a Contribution?\n",
    "    if _repo['hasContributingFile']:\n",
    "        _definitionOSS.append(70)\n",
    "    else:\n",
    "        _definitionOSS.append(30)\n",
    "\n",
    "    # Does it have a Code of Conduct?\n",
    "    if _repo['hasCodeOfConductFile']:\n",
    "        _definitionOSS.append(70)\n",
    "    else:\n",
    "        _definitionOSS.append(30)\n",
    "\n",
    "    return average(_definitionOSS)"
   ],
   "metadata": {
    "collapsed": false,
    "pycharm": {
     "name": "#%% Calculation Definition OOS Score\n"
    }
   }
  },
  {
   "cell_type": "code",
   "execution_count": 45,
   "outputs": [],
   "source": [
    "def popularity_calc_contribution(_qty):\n",
    "    _score = get_metric_percent(\"numberOfContributors\", _qty)\n",
    "    return _score\n",
    "\n",
    "def popularity_calc_issues(_qty):\n",
    "    _score = get_metric_percent(\"numberOfIssues\", _qty)\n",
    "    return _score\n",
    "\n",
    "def popularity_calc_pulls(_qty):\n",
    "    _score = get_metric_percent(\"numberOfPulls\", _qty)\n",
    "    return _score"
   ],
   "metadata": {
    "collapsed": false,
    "pycharm": {
     "name": "#%% Calculation Popularity Score\n"
    }
   }
  },
  {
   "cell_type": "code",
   "execution_count": 46,
   "outputs": [
    {
     "name": "stdout",
     "output_type": "stream",
     "text": [
      "No data found in StarWS\n",
      "No data found in StarWS\n"
     ]
    }
   ],
   "source": [
    "data = {}\n",
    "for node in nodes:\n",
    "    raw_data = load_data(provider, node, start_date, end_date)\n",
    "    # Keeping last version of itens\n",
    "    if raw_data:\n",
    "        if node in 'commits':\n",
    "            data[node] = pd.DataFrame.from_dict(pd.json_normalize(raw_data))\n",
    "        else:\n",
    "            data[node] = pd.DataFrame.from_dict(pd.json_normalize(raw_data)).sort_values('dateTime').groupby('number').tail(1)\n",
    "    else:\n",
    "        data[node] = pd.DataFrame()"
   ],
   "metadata": {
    "collapsed": false,
    "pycharm": {
     "name": "#%% StarWS Data\n"
    }
   }
  },
  {
   "cell_type": "code",
   "execution_count": 47,
   "outputs": [],
   "source": [
    "# Getting owner and name from all nodes to request data from Mongo\n",
    "frames = []\n",
    "for k in data:\n",
    "    if len(data[k]) > 0:\n",
    "        frames.append(data[k][['owner', 'name']])\n",
    "\n",
    "if frames:\n",
    "    result = pd.concat(frames).drop_duplicates().to_json(orient=\"table\", index=None)\n",
    "    repoList = json.loads(result)['data']\n",
    "\n",
    "    if repoList:\n",
    "        code_data = load_mongo_data(repoList)\n",
    "        data['code'] = pd.DataFrame.from_dict(code_data)"
   ],
   "metadata": {
    "collapsed": false,
    "pycharm": {
     "name": "#%% Static Data\n"
    }
   }
  },
  {
   "cell_type": "code",
   "execution_count": 59,
   "outputs": [
    {
     "name": "stdout",
     "output_type": "stream",
     "text": [
      "{'pulls':                dateTime  number   state             createdAt  \\\n",
      "2  2020-07-28T02:32:46Z      16  CLOSED  2021-02-20T07:57:54Z   \n",
      "3  2021-01-12T12:32:00Z      32  CLOSED  2021-02-14T11:23:53Z   \n",
      "7  2021-01-19T02:53:19Z      36  MERGED  2021-01-06T02:40:46Z   \n",
      "5  2021-01-24T08:37:26Z      40  MERGED  2021-01-19T02:51:30Z   \n",
      "6  2021-01-25T01:27:39Z      41  MERGED  2021-02-06T15:29:45Z   \n",
      "8  2021-02-01T12:16:09Z      44  MERGED  2021-01-24T09:41:01Z   \n",
      "9  2021-02-01T12:17:40Z      46  MERGED  2021-01-29T13:49:21Z   \n",
      "0  2021-02-07T06:05:06Z      48  CLOSED  2021-01-24T03:02:05Z   \n",
      "1  2021-02-14T11:30:48Z      49  MERGED  2020-07-27T09:00:21Z   \n",
      "4  2021-02-20T08:08:35Z      50  MERGED  2021-01-31T02:45:04Z   \n",
      "\n",
      "               closedAt merged                       mergedAt      author  \\\n",
      "2  2021-02-20T07:58:24Z   true  2020-07-28T02:32:46.000+00:00   duandaxei   \n",
      "3  2021-02-14T11:30:48Z   true  2021-01-12T12:32:00.000+00:00     agooday   \n",
      "7  2021-01-12T12:32:00Z   true           2021-01-12T12:32:00Z      lc6464   \n",
      "5  2021-01-19T02:53:19Z  false           2021-01-19T02:53:19Z   HerbertHe   \n",
      "6  2021-02-07T06:05:06Z   true           2021-02-07T06:05:06Z      lc6464   \n",
      "8  2021-01-25T01:27:39Z   true           2021-01-25T01:27:39Z     DoveBoy   \n",
      "9  2021-02-01T12:16:09Z   true           2021-02-01T12:16:09Z     DoveBoy   \n",
      "0  2021-01-24T08:37:26Z   true  2021-02-07T06:05:06.000+00:00     DoveBoy   \n",
      "1  2020-07-28T02:32:46Z  false           2020-07-28T02:32:46Z   mxue12138   \n",
      "4  2021-02-01T12:17:40Z  false           2021-02-01T12:17:40Z  Potterli20   \n",
      "\n",
      "      labels                                            rawData  ...  \\\n",
      "2  no-string  https://agrows-file-server-r3.labbs.com.br/own...  ...   \n",
      "3  no-string  https://agrows-file-server-r3.labbs.com.br/own...  ...   \n",
      "7  no-string  https://agrows-file-server-r3.labbs.com.br/own...  ...   \n",
      "5  no-string  https://agrows-file-server-r3.labbs.com.br/own...  ...   \n",
      "6  no-string  https://agrows-file-server-r3.labbs.com.br/own...  ...   \n",
      "8  no-string  https://agrows-file-server-r3.labbs.com.br/own...  ...   \n",
      "9  no-string  https://agrows-file-server-r3.labbs.com.br/own...  ...   \n",
      "0  no-string  https://agrows-file-server-r3.labbs.com.br/own...  ...   \n",
      "1  no-string  https://agrows-file-server-r3.labbs.com.br/own...  ...   \n",
      "4  no-string  https://agrows-file-server-r3.labbs.com.br/own...  ...   \n",
      "\n",
      "        name provider  type             updatedAt   node  \\\n",
      "2  GitHub520   github  pull  2021-02-20T08:08:35Z  pulls   \n",
      "3  GitHub520   github  pull  2021-02-14T11:30:48Z  pulls   \n",
      "7  GitHub520   github  pull  2021-01-12T12:32:00Z  pulls   \n",
      "5  GitHub520   github  pull  2021-01-19T02:53:19Z  pulls   \n",
      "6  GitHub520   github  pull  2021-02-07T06:05:06Z  pulls   \n",
      "8  GitHub520   github  pull  2021-01-25T01:27:39Z  pulls   \n",
      "9  GitHub520   github  pull  2021-02-01T12:16:09Z  pulls   \n",
      "0  GitHub520   github  pull  2021-01-24T08:37:26Z  pulls   \n",
      "1  GitHub520   github  pull  2020-07-28T02:32:46Z  pulls   \n",
      "4  GitHub520   github  pull  2021-02-01T12:17:40Z  pulls   \n",
      "\n",
      "  participants.totalCount          participants.users comments.totalCount  \\\n",
      "2                       1                 [duandaxei]                   1   \n",
      "3                       1                   [agooday]                   0   \n",
      "7                       2      [lc6464, 521xueweihan]                   0   \n",
      "5                       2   [HerbertHe, 521xueweihan]                   0   \n",
      "6                       2      [lc6464, 521xueweihan]                   0   \n",
      "8                       2     [DoveBoy, 521xueweihan]                   0   \n",
      "9                       2     [DoveBoy, 521xueweihan]                   0   \n",
      "0                       2     [DoveBoy, 521xueweihan]                   1   \n",
      "1                       2   [mxue12138, 521xueweihan]                   0   \n",
      "4                       2  [Potterli20, 521xueweihan]                   0   \n",
      "\n",
      "   comments.updatedAt                                      comments.data  \n",
      "2                      [{'id': 'MDEyOklzc3VlQ29tbWVudDc4MjU4MzcyMQ=='...  \n",
      "3                                                                   None  \n",
      "7                                                                   None  \n",
      "5                                                                   None  \n",
      "6                                                                   None  \n",
      "8                                                                   None  \n",
      "9                                                                   None  \n",
      "0                      [{'id': 'MDEyOklzc3VlQ29tbWVudDc2NjMxMTY3Ng=='...  \n",
      "1                                                                   None  \n",
      "4                                                                   None  \n",
      "\n",
      "[10 rows x 21 columns], 'issues':                dateTime  number   state             createdAt  \\\n",
      "9  2021-02-02T08:01:03Z      47  CLOSED  2021-03-06T05:12:53Z   \n",
      "2  2021-03-04T12:01:21Z      53    OPEN  2021-03-19T06:15:25Z   \n",
      "3  2021-03-05T04:01:38Z      54  CLOSED  2021-03-01T05:12:55Z   \n",
      "4  2021-03-05T04:03:45Z      51  CLOSED  2021-02-22T13:41:12Z   \n",
      "5  2021-03-08T05:39:47Z      56  CLOSED  2021-03-08T04:23:19Z   \n",
      "6  2021-03-09T06:40:23Z      57    OPEN  2021-03-04T12:01:21Z   \n",
      "7  2021-03-09T09:38:54Z      55  CLOSED  2021-03-10T16:18:37Z   \n",
      "8  2021-03-11T01:14:24Z      58    OPEN  2021-03-09T06:40:23Z   \n",
      "0  2021-03-21T08:40:21Z      52  CLOSED  2021-03-05T02:03:39Z   \n",
      "1  2021-03-21T11:17:29Z      59    OPEN  2021-02-02T07:46:54Z   \n",
      "\n",
      "                        closedAt             updatedAt            author  \\\n",
      "9           2021-03-09T09:38:54Z  2021-03-09T09:38:54Z           a76yyyy   \n",
      "2                                 2021-03-21T11:17:29Z  StevenGardnerGMJ   \n",
      "3           2021-03-21T08:40:21Z  2021-03-21T08:40:21Z             MHuiG   \n",
      "4           2021-03-05T04:03:45Z  2021-03-05T04:03:45Z        SamLukeYes   \n",
      "5           2021-03-08T05:39:46Z  2021-03-08T05:39:47Z  Higurashi-kagome   \n",
      "6                                 2021-03-04T12:01:21Z              XIU2   \n",
      "7           2021-03-11T01:08:26Z  2021-03-11T01:14:24Z             aixiu   \n",
      "8  2021-03-11T01:08:26.000+00:00  2021-03-09T06:40:23Z           a76yyyy   \n",
      "0           2021-03-05T04:01:38Z  2021-03-05T04:01:38Z             anaer   \n",
      "1                                 2021-02-02T08:01:03Z              XIU2   \n",
      "\n",
      "      labels                                            rawData         owner  \\\n",
      "9  no-string  https://agrows-file-server-r3.labbs.com.br/own...  521xueweihan   \n",
      "2  no-string  https://agrows-file-server-r3.labbs.com.br/own...  521xueweihan   \n",
      "3  no-string  https://agrows-file-server-r3.labbs.com.br/own...  521xueweihan   \n",
      "4  no-string  https://agrows-file-server-r3.labbs.com.br/own...  521xueweihan   \n",
      "5  no-string  https://agrows-file-server-r3.labbs.com.br/own...  521xueweihan   \n",
      "6  no-string  https://agrows-file-server-r3.labbs.com.br/own...  521xueweihan   \n",
      "7  no-string  https://agrows-file-server-r3.labbs.com.br/own...  521xueweihan   \n",
      "8  no-string  https://agrows-file-server-r3.labbs.com.br/own...  521xueweihan   \n",
      "0  no-string  https://agrows-file-server-r3.labbs.com.br/own...  521xueweihan   \n",
      "1  no-string  https://agrows-file-server-r3.labbs.com.br/own...  521xueweihan   \n",
      "\n",
      "        name provider    type    node  participants.totalCount  \\\n",
      "9  GitHub520   github  issues  issues                        2   \n",
      "2  GitHub520   github  issues  issues                        4   \n",
      "3  GitHub520   github  issues  issues                        3   \n",
      "4  GitHub520   github  issues  issues                        2   \n",
      "5  GitHub520   github  issues  issues                        2   \n",
      "6  GitHub520   github  issues  issues                        1   \n",
      "7  GitHub520   github  issues  issues                        2   \n",
      "8  GitHub520   github  issues  issues                        1   \n",
      "0  GitHub520   github  issues  issues                        2   \n",
      "1  GitHub520   github  issues  issues                        1   \n",
      "\n",
      "                                  participants.users  comments.totalCount  \\\n",
      "9                            [521xueweihan, a76yyyy]                    2   \n",
      "2  [StevenGardnerGMJ, shaun-he, ff-frida, yangjin...                    5   \n",
      "3                [521xueweihan, MHuiG, wangping1511]                    2   \n",
      "4                         [521xueweihan, SamLukeYes]                    0   \n",
      "5                   [521xueweihan, Higurashi-kagome]                    3   \n",
      "6                                             [XIU2]                    0   \n",
      "7                              [aixiu, 521xueweihan]                    2   \n",
      "8                                          [a76yyyy]                    0   \n",
      "0                              [anaer, 521xueweihan]                    1   \n",
      "1                                             [XIU2]                    0   \n",
      "\n",
      "  comments.updatedAt                                      comments.data  \n",
      "9                     [{'id': 'MDEyOklzc3VlQ29tbWVudDc5MjQxMjQ1MA=='...  \n",
      "2                     [{'id': 'MDEyOklzc3VlQ29tbWVudDgwMjU5NjU3NA=='...  \n",
      "3                     [{'id': 'MDEyOklzc3VlQ29tbWVudDc5MTEzNzA5Mw=='...  \n",
      "4                                                                  None  \n",
      "5                     [{'id': 'MDEyOklzc3VlQ29tbWVudDc5MjQ1NzQ1Ng=='...  \n",
      "6                                                                  None  \n",
      "7                     [{'id': 'MDEyOklzc3VlQ29tbWVudDc5NjM0MjkxMw=='...  \n",
      "8                                                                  None  \n",
      "0                     [{'id': 'MDEyOklzc3VlQ29tbWVudDc5MTEzNjA1OQ=='...  \n",
      "1                                                                  None  , 'commits': Empty DataFrame\n",
      "Columns: []\n",
      "Index: [], 'comments': Empty DataFrame\n",
      "Columns: []\n",
      "Index: [], 'code':   repositoryTopics languages                       _id       name  \\\n",
      "0               []  [Python]  6054949f5c405a6d2d56f175  GitHub520   \n",
      "\n",
      "          owner                                        description  \\\n",
      "0  521xueweihan  :kissing_heart: 让你“爱”上 GitHub，解决访问时图裂、加载慢的问题。（...   \n",
      "\n",
      "          repoCreatedAt primaryLanguage  watchers  stars  ...  \\\n",
      "0  2020-05-13T07:25:21Z          Python       106   3836  ...   \n",
      "\n",
      "   hasContributingFile licenseInfo  hasCodeOfConductFile  releases  \\\n",
      "0                False                             False         0   \n",
      "\n",
      "   contributors  diskUsage  provider                 createdAt  \\\n",
      "0             0       1479    github  2021-03-19T12:10:07.510Z   \n",
      "\n",
      "                  updatedAt  __v  \n",
      "0  2021-03-22T14:10:07.062Z    0  \n",
      "\n",
      "[1 rows x 26 columns]}\n",
      "[100, 0]\n",
      "               dateTime  number   state             createdAt  \\\n",
      "9  2021-02-02T08:01:03Z      47  CLOSED  2021-03-06T05:12:53Z   \n",
      "3  2021-03-05T04:01:38Z      54  CLOSED  2021-03-01T05:12:55Z   \n",
      "4  2021-03-05T04:03:45Z      51  CLOSED  2021-02-22T13:41:12Z   \n",
      "5  2021-03-08T05:39:47Z      56  CLOSED  2021-03-08T04:23:19Z   \n",
      "7  2021-03-09T09:38:54Z      55  CLOSED  2021-03-10T16:18:37Z   \n",
      "0  2021-03-21T08:40:21Z      52  CLOSED  2021-03-05T02:03:39Z   \n",
      "\n",
      "               closedAt             updatedAt            author     labels  \\\n",
      "9  2021-03-09T09:38:54Z  2021-03-09T09:38:54Z           a76yyyy  no-string   \n",
      "3  2021-03-21T08:40:21Z  2021-03-21T08:40:21Z             MHuiG  no-string   \n",
      "4  2021-03-05T04:03:45Z  2021-03-05T04:03:45Z        SamLukeYes  no-string   \n",
      "5  2021-03-08T05:39:46Z  2021-03-08T05:39:47Z  Higurashi-kagome  no-string   \n",
      "7  2021-03-11T01:08:26Z  2021-03-11T01:14:24Z             aixiu  no-string   \n",
      "0  2021-03-05T04:01:38Z  2021-03-05T04:01:38Z             anaer  no-string   \n",
      "\n",
      "                                             rawData         owner       name  \\\n",
      "9  https://agrows-file-server-r3.labbs.com.br/own...  521xueweihan  GitHub520   \n",
      "3  https://agrows-file-server-r3.labbs.com.br/own...  521xueweihan  GitHub520   \n",
      "4  https://agrows-file-server-r3.labbs.com.br/own...  521xueweihan  GitHub520   \n",
      "5  https://agrows-file-server-r3.labbs.com.br/own...  521xueweihan  GitHub520   \n",
      "7  https://agrows-file-server-r3.labbs.com.br/own...  521xueweihan  GitHub520   \n",
      "0  https://agrows-file-server-r3.labbs.com.br/own...  521xueweihan  GitHub520   \n",
      "\n",
      "  provider    type    node  participants.totalCount  \\\n",
      "9   github  issues  issues                        2   \n",
      "3   github  issues  issues                        3   \n",
      "4   github  issues  issues                        2   \n",
      "5   github  issues  issues                        2   \n",
      "7   github  issues  issues                        2   \n",
      "0   github  issues  issues                        2   \n",
      "\n",
      "                    participants.users  comments.totalCount  \\\n",
      "9              [521xueweihan, a76yyyy]                    2   \n",
      "3  [521xueweihan, MHuiG, wangping1511]                    2   \n",
      "4           [521xueweihan, SamLukeYes]                    0   \n",
      "5     [521xueweihan, Higurashi-kagome]                    3   \n",
      "7                [aixiu, 521xueweihan]                    2   \n",
      "0                [anaer, 521xueweihan]                    1   \n",
      "\n",
      "  comments.updatedAt                                      comments.data  \n",
      "9                     [{'id': 'MDEyOklzc3VlQ29tbWVudDc5MjQxMjQ1MA=='...  \n",
      "3                     [{'id': 'MDEyOklzc3VlQ29tbWVudDc5MTEzNzA5Mw=='...  \n",
      "4                                                                  None  \n",
      "5                     [{'id': 'MDEyOklzc3VlQ29tbWVudDc5MjQ1NzQ1Ng=='...  \n",
      "7                     [{'id': 'MDEyOklzc3VlQ29tbWVudDc5NjM0MjkxMw=='...  \n",
      "0                     [{'id': 'MDEyOklzc3VlQ29tbWVudDc5MTEzNjA1OQ=='...  \n"
     ]
    },
    {
     "name": "stderr",
     "output_type": "stream",
     "text": [
      "/Users/rafaelmmartins/Library/Python/3.7/lib/python/site-packages/ipykernel_launcher.py:46: FutureWarning:\n",
      "\n",
      "`rcond` parameter will change to the default of machine precision times ``max(M, N)`` where M and N are the input matrix dimensions.\n",
      "To use the future default and silence this warning we advise to pass `rcond=None`, to keep using the old, explicitly pass `rcond=-1`.\n",
      "\n"
     ]
    },
    {
     "data": {
      "application/vnd.plotly.v1+json": {
       "config": {
        "plotlyServerURL": "https://plot.ly"
       },
       "data": [
        {
         "hovertemplate": "r=%{r}<br>theta=%{theta}<extra></extra>",
         "legendgroup": "",
         "line": {
          "color": "#636efa",
          "dash": "solid"
         },
         "mode": "lines",
         "name": "",
         "r": [
          50.32311154649346,
          15.0,
          5.0,
          50.0,
          5.0,
          50.32311154649346
         ],
         "showlegend": false,
         "subplot": "polar",
         "theta": [
          "Frequency",
          "Definition of OSS",
          "Friendly",
          "Popularity",
          "Quality",
          "Frequency"
         ],
         "type": "scatterpolar"
        }
       ],
       "layout": {
        "legend": {
         "tracegroupgap": 0
        },
        "margin": {
         "t": 60
        },
        "polar": {
         "angularaxis": {
          "direction": "clockwise",
          "rotation": 90
         },
         "domain": {
          "x": [
           0.0,
           1.0
          ],
          "y": [
           0.0,
           1.0
          ]
         },
         "radialaxis": {
          "range": [
           0,
           101
          ],
          "visible": true
         }
        },
        "showlegend": false,
        "template": {
         "data": {
          "bar": [
           {
            "error_x": {
             "color": "#2a3f5f"
            },
            "error_y": {
             "color": "#2a3f5f"
            },
            "marker": {
             "line": {
              "color": "#E5ECF6",
              "width": 0.5
             }
            },
            "type": "bar"
           }
          ],
          "barpolar": [
           {
            "marker": {
             "line": {
              "color": "#E5ECF6",
              "width": 0.5
             }
            },
            "type": "barpolar"
           }
          ],
          "carpet": [
           {
            "aaxis": {
             "endlinecolor": "#2a3f5f",
             "gridcolor": "white",
             "linecolor": "white",
             "minorgridcolor": "white",
             "startlinecolor": "#2a3f5f"
            },
            "baxis": {
             "endlinecolor": "#2a3f5f",
             "gridcolor": "white",
             "linecolor": "white",
             "minorgridcolor": "white",
             "startlinecolor": "#2a3f5f"
            },
            "type": "carpet"
           }
          ],
          "choropleth": [
           {
            "colorbar": {
             "outlinewidth": 0,
             "ticks": ""
            },
            "type": "choropleth"
           }
          ],
          "contour": [
           {
            "colorbar": {
             "outlinewidth": 0,
             "ticks": ""
            },
            "colorscale": [
             [
              0.0,
              "#0d0887"
             ],
             [
              0.1111111111111111,
              "#46039f"
             ],
             [
              0.2222222222222222,
              "#7201a8"
             ],
             [
              0.3333333333333333,
              "#9c179e"
             ],
             [
              0.4444444444444444,
              "#bd3786"
             ],
             [
              0.5555555555555556,
              "#d8576b"
             ],
             [
              0.6666666666666666,
              "#ed7953"
             ],
             [
              0.7777777777777778,
              "#fb9f3a"
             ],
             [
              0.8888888888888888,
              "#fdca26"
             ],
             [
              1.0,
              "#f0f921"
             ]
            ],
            "type": "contour"
           }
          ],
          "contourcarpet": [
           {
            "colorbar": {
             "outlinewidth": 0,
             "ticks": ""
            },
            "type": "contourcarpet"
           }
          ],
          "heatmap": [
           {
            "colorbar": {
             "outlinewidth": 0,
             "ticks": ""
            },
            "colorscale": [
             [
              0.0,
              "#0d0887"
             ],
             [
              0.1111111111111111,
              "#46039f"
             ],
             [
              0.2222222222222222,
              "#7201a8"
             ],
             [
              0.3333333333333333,
              "#9c179e"
             ],
             [
              0.4444444444444444,
              "#bd3786"
             ],
             [
              0.5555555555555556,
              "#d8576b"
             ],
             [
              0.6666666666666666,
              "#ed7953"
             ],
             [
              0.7777777777777778,
              "#fb9f3a"
             ],
             [
              0.8888888888888888,
              "#fdca26"
             ],
             [
              1.0,
              "#f0f921"
             ]
            ],
            "type": "heatmap"
           }
          ],
          "heatmapgl": [
           {
            "colorbar": {
             "outlinewidth": 0,
             "ticks": ""
            },
            "colorscale": [
             [
              0.0,
              "#0d0887"
             ],
             [
              0.1111111111111111,
              "#46039f"
             ],
             [
              0.2222222222222222,
              "#7201a8"
             ],
             [
              0.3333333333333333,
              "#9c179e"
             ],
             [
              0.4444444444444444,
              "#bd3786"
             ],
             [
              0.5555555555555556,
              "#d8576b"
             ],
             [
              0.6666666666666666,
              "#ed7953"
             ],
             [
              0.7777777777777778,
              "#fb9f3a"
             ],
             [
              0.8888888888888888,
              "#fdca26"
             ],
             [
              1.0,
              "#f0f921"
             ]
            ],
            "type": "heatmapgl"
           }
          ],
          "histogram": [
           {
            "marker": {
             "colorbar": {
              "outlinewidth": 0,
              "ticks": ""
             }
            },
            "type": "histogram"
           }
          ],
          "histogram2d": [
           {
            "colorbar": {
             "outlinewidth": 0,
             "ticks": ""
            },
            "colorscale": [
             [
              0.0,
              "#0d0887"
             ],
             [
              0.1111111111111111,
              "#46039f"
             ],
             [
              0.2222222222222222,
              "#7201a8"
             ],
             [
              0.3333333333333333,
              "#9c179e"
             ],
             [
              0.4444444444444444,
              "#bd3786"
             ],
             [
              0.5555555555555556,
              "#d8576b"
             ],
             [
              0.6666666666666666,
              "#ed7953"
             ],
             [
              0.7777777777777778,
              "#fb9f3a"
             ],
             [
              0.8888888888888888,
              "#fdca26"
             ],
             [
              1.0,
              "#f0f921"
             ]
            ],
            "type": "histogram2d"
           }
          ],
          "histogram2dcontour": [
           {
            "colorbar": {
             "outlinewidth": 0,
             "ticks": ""
            },
            "colorscale": [
             [
              0.0,
              "#0d0887"
             ],
             [
              0.1111111111111111,
              "#46039f"
             ],
             [
              0.2222222222222222,
              "#7201a8"
             ],
             [
              0.3333333333333333,
              "#9c179e"
             ],
             [
              0.4444444444444444,
              "#bd3786"
             ],
             [
              0.5555555555555556,
              "#d8576b"
             ],
             [
              0.6666666666666666,
              "#ed7953"
             ],
             [
              0.7777777777777778,
              "#fb9f3a"
             ],
             [
              0.8888888888888888,
              "#fdca26"
             ],
             [
              1.0,
              "#f0f921"
             ]
            ],
            "type": "histogram2dcontour"
           }
          ],
          "mesh3d": [
           {
            "colorbar": {
             "outlinewidth": 0,
             "ticks": ""
            },
            "type": "mesh3d"
           }
          ],
          "parcoords": [
           {
            "line": {
             "colorbar": {
              "outlinewidth": 0,
              "ticks": ""
             }
            },
            "type": "parcoords"
           }
          ],
          "pie": [
           {
            "automargin": true,
            "type": "pie"
           }
          ],
          "scatter": [
           {
            "marker": {
             "colorbar": {
              "outlinewidth": 0,
              "ticks": ""
             }
            },
            "type": "scatter"
           }
          ],
          "scatter3d": [
           {
            "line": {
             "colorbar": {
              "outlinewidth": 0,
              "ticks": ""
             }
            },
            "marker": {
             "colorbar": {
              "outlinewidth": 0,
              "ticks": ""
             }
            },
            "type": "scatter3d"
           }
          ],
          "scattercarpet": [
           {
            "marker": {
             "colorbar": {
              "outlinewidth": 0,
              "ticks": ""
             }
            },
            "type": "scattercarpet"
           }
          ],
          "scattergeo": [
           {
            "marker": {
             "colorbar": {
              "outlinewidth": 0,
              "ticks": ""
             }
            },
            "type": "scattergeo"
           }
          ],
          "scattergl": [
           {
            "marker": {
             "colorbar": {
              "outlinewidth": 0,
              "ticks": ""
             }
            },
            "type": "scattergl"
           }
          ],
          "scattermapbox": [
           {
            "marker": {
             "colorbar": {
              "outlinewidth": 0,
              "ticks": ""
             }
            },
            "type": "scattermapbox"
           }
          ],
          "scatterpolar": [
           {
            "marker": {
             "colorbar": {
              "outlinewidth": 0,
              "ticks": ""
             }
            },
            "type": "scatterpolar"
           }
          ],
          "scatterpolargl": [
           {
            "marker": {
             "colorbar": {
              "outlinewidth": 0,
              "ticks": ""
             }
            },
            "type": "scatterpolargl"
           }
          ],
          "scatterternary": [
           {
            "marker": {
             "colorbar": {
              "outlinewidth": 0,
              "ticks": ""
             }
            },
            "type": "scatterternary"
           }
          ],
          "surface": [
           {
            "colorbar": {
             "outlinewidth": 0,
             "ticks": ""
            },
            "colorscale": [
             [
              0.0,
              "#0d0887"
             ],
             [
              0.1111111111111111,
              "#46039f"
             ],
             [
              0.2222222222222222,
              "#7201a8"
             ],
             [
              0.3333333333333333,
              "#9c179e"
             ],
             [
              0.4444444444444444,
              "#bd3786"
             ],
             [
              0.5555555555555556,
              "#d8576b"
             ],
             [
              0.6666666666666666,
              "#ed7953"
             ],
             [
              0.7777777777777778,
              "#fb9f3a"
             ],
             [
              0.8888888888888888,
              "#fdca26"
             ],
             [
              1.0,
              "#f0f921"
             ]
            ],
            "type": "surface"
           }
          ],
          "table": [
           {
            "cells": {
             "fill": {
              "color": "#EBF0F8"
             },
             "line": {
              "color": "white"
             }
            },
            "header": {
             "fill": {
              "color": "#C8D4E3"
             },
             "line": {
              "color": "white"
             }
            },
            "type": "table"
           }
          ]
         },
         "layout": {
          "annotationdefaults": {
           "arrowcolor": "#2a3f5f",
           "arrowhead": 0,
           "arrowwidth": 1
          },
          "coloraxis": {
           "colorbar": {
            "outlinewidth": 0,
            "ticks": ""
           }
          },
          "colorscale": {
           "diverging": [
            [
             0,
             "#8e0152"
            ],
            [
             0.1,
             "#c51b7d"
            ],
            [
             0.2,
             "#de77ae"
            ],
            [
             0.3,
             "#f1b6da"
            ],
            [
             0.4,
             "#fde0ef"
            ],
            [
             0.5,
             "#f7f7f7"
            ],
            [
             0.6,
             "#e6f5d0"
            ],
            [
             0.7,
             "#b8e186"
            ],
            [
             0.8,
             "#7fbc41"
            ],
            [
             0.9,
             "#4d9221"
            ],
            [
             1,
             "#276419"
            ]
           ],
           "sequential": [
            [
             0.0,
             "#0d0887"
            ],
            [
             0.1111111111111111,
             "#46039f"
            ],
            [
             0.2222222222222222,
             "#7201a8"
            ],
            [
             0.3333333333333333,
             "#9c179e"
            ],
            [
             0.4444444444444444,
             "#bd3786"
            ],
            [
             0.5555555555555556,
             "#d8576b"
            ],
            [
             0.6666666666666666,
             "#ed7953"
            ],
            [
             0.7777777777777778,
             "#fb9f3a"
            ],
            [
             0.8888888888888888,
             "#fdca26"
            ],
            [
             1.0,
             "#f0f921"
            ]
           ],
           "sequentialminus": [
            [
             0.0,
             "#0d0887"
            ],
            [
             0.1111111111111111,
             "#46039f"
            ],
            [
             0.2222222222222222,
             "#7201a8"
            ],
            [
             0.3333333333333333,
             "#9c179e"
            ],
            [
             0.4444444444444444,
             "#bd3786"
            ],
            [
             0.5555555555555556,
             "#d8576b"
            ],
            [
             0.6666666666666666,
             "#ed7953"
            ],
            [
             0.7777777777777778,
             "#fb9f3a"
            ],
            [
             0.8888888888888888,
             "#fdca26"
            ],
            [
             1.0,
             "#f0f921"
            ]
           ]
          },
          "colorway": [
           "#636efa",
           "#EF553B",
           "#00cc96",
           "#ab63fa",
           "#FFA15A",
           "#19d3f3",
           "#FF6692",
           "#B6E880",
           "#FF97FF",
           "#FECB52"
          ],
          "font": {
           "color": "#2a3f5f"
          },
          "geo": {
           "bgcolor": "white",
           "lakecolor": "white",
           "landcolor": "#E5ECF6",
           "showlakes": true,
           "showland": true,
           "subunitcolor": "white"
          },
          "hoverlabel": {
           "align": "left"
          },
          "hovermode": "closest",
          "mapbox": {
           "style": "light"
          },
          "paper_bgcolor": "white",
          "plot_bgcolor": "#E5ECF6",
          "polar": {
           "angularaxis": {
            "gridcolor": "white",
            "linecolor": "white",
            "ticks": ""
           },
           "bgcolor": "#E5ECF6",
           "radialaxis": {
            "gridcolor": "white",
            "linecolor": "white",
            "ticks": ""
           }
          },
          "scene": {
           "xaxis": {
            "backgroundcolor": "#E5ECF6",
            "gridcolor": "white",
            "gridwidth": 2,
            "linecolor": "white",
            "showbackground": true,
            "ticks": "",
            "zerolinecolor": "white"
           },
           "yaxis": {
            "backgroundcolor": "#E5ECF6",
            "gridcolor": "white",
            "gridwidth": 2,
            "linecolor": "white",
            "showbackground": true,
            "ticks": "",
            "zerolinecolor": "white"
           },
           "zaxis": {
            "backgroundcolor": "#E5ECF6",
            "gridcolor": "white",
            "gridwidth": 2,
            "linecolor": "white",
            "showbackground": true,
            "ticks": "",
            "zerolinecolor": "white"
           }
          },
          "shapedefaults": {
           "line": {
            "color": "#2a3f5f"
           }
          },
          "ternary": {
           "aaxis": {
            "gridcolor": "white",
            "linecolor": "white",
            "ticks": ""
           },
           "baxis": {
            "gridcolor": "white",
            "linecolor": "white",
            "ticks": ""
           },
           "bgcolor": "#E5ECF6",
           "caxis": {
            "gridcolor": "white",
            "linecolor": "white",
            "ticks": ""
           }
          },
          "title": {
           "x": 0.05
          },
          "xaxis": {
           "automargin": true,
           "gridcolor": "white",
           "linecolor": "white",
           "ticks": "",
           "title": {
            "standoff": 15
           },
           "zerolinecolor": "white",
           "zerolinewidth": 2
          },
          "yaxis": {
           "automargin": true,
           "gridcolor": "white",
           "linecolor": "white",
           "ticks": "",
           "title": {
            "standoff": 15
           },
           "zerolinecolor": "white",
           "zerolinewidth": 2
          }
         }
        },
        "title": {
         "text": "521xueweihan/GitHub520"
        }
       }
      },
      "text/html": "<div>                            <div id=\"fdecdb57-3c80-4baf-93bf-e7df513748b0\" class=\"plotly-graph-div\" style=\"height:525px; width:100%;\"></div>            <script type=\"text/javascript\">                require([\"plotly\"], function(Plotly) {                    window.PLOTLYENV=window.PLOTLYENV || {};                                    if (document.getElementById(\"fdecdb57-3c80-4baf-93bf-e7df513748b0\")) {                    Plotly.newPlot(                        \"fdecdb57-3c80-4baf-93bf-e7df513748b0\",                        [{\"hovertemplate\": \"r=%{r}<br>theta=%{theta}<extra></extra>\", \"legendgroup\": \"\", \"line\": {\"color\": \"#636efa\", \"dash\": \"solid\"}, \"mode\": \"lines\", \"name\": \"\", \"r\": [50.32311154649346, 15.0, 5.0, 50.0, 5.0, 50.32311154649346], \"showlegend\": false, \"subplot\": \"polar\", \"theta\": [\"Frequency\", \"Definition of OSS\", \"Friendly\", \"Popularity\", \"Quality\", \"Frequency\"], \"type\": \"scatterpolar\"}],                        {\"legend\": {\"tracegroupgap\": 0}, \"margin\": {\"t\": 60}, \"polar\": {\"angularaxis\": {\"direction\": \"clockwise\", \"rotation\": 90}, \"domain\": {\"x\": [0.0, 1.0], \"y\": [0.0, 1.0]}, \"radialaxis\": {\"range\": [0, 101], \"visible\": true}}, \"showlegend\": false, \"template\": {\"data\": {\"bar\": [{\"error_x\": {\"color\": \"#2a3f5f\"}, \"error_y\": {\"color\": \"#2a3f5f\"}, \"marker\": {\"line\": {\"color\": \"#E5ECF6\", \"width\": 0.5}}, \"type\": \"bar\"}], \"barpolar\": [{\"marker\": {\"line\": {\"color\": \"#E5ECF6\", \"width\": 0.5}}, \"type\": \"barpolar\"}], \"carpet\": [{\"aaxis\": {\"endlinecolor\": \"#2a3f5f\", \"gridcolor\": \"white\", \"linecolor\": \"white\", \"minorgridcolor\": \"white\", \"startlinecolor\": \"#2a3f5f\"}, \"baxis\": {\"endlinecolor\": \"#2a3f5f\", \"gridcolor\": \"white\", \"linecolor\": \"white\", \"minorgridcolor\": \"white\", \"startlinecolor\": \"#2a3f5f\"}, \"type\": \"carpet\"}], \"choropleth\": [{\"colorbar\": {\"outlinewidth\": 0, \"ticks\": \"\"}, \"type\": \"choropleth\"}], \"contour\": [{\"colorbar\": {\"outlinewidth\": 0, \"ticks\": \"\"}, \"colorscale\": [[0.0, \"#0d0887\"], [0.1111111111111111, \"#46039f\"], [0.2222222222222222, \"#7201a8\"], [0.3333333333333333, \"#9c179e\"], [0.4444444444444444, \"#bd3786\"], [0.5555555555555556, \"#d8576b\"], [0.6666666666666666, \"#ed7953\"], [0.7777777777777778, \"#fb9f3a\"], [0.8888888888888888, \"#fdca26\"], [1.0, \"#f0f921\"]], \"type\": \"contour\"}], \"contourcarpet\": [{\"colorbar\": {\"outlinewidth\": 0, \"ticks\": \"\"}, \"type\": \"contourcarpet\"}], \"heatmap\": [{\"colorbar\": {\"outlinewidth\": 0, \"ticks\": \"\"}, \"colorscale\": [[0.0, \"#0d0887\"], [0.1111111111111111, \"#46039f\"], [0.2222222222222222, \"#7201a8\"], [0.3333333333333333, \"#9c179e\"], [0.4444444444444444, \"#bd3786\"], [0.5555555555555556, \"#d8576b\"], [0.6666666666666666, \"#ed7953\"], [0.7777777777777778, \"#fb9f3a\"], [0.8888888888888888, \"#fdca26\"], [1.0, \"#f0f921\"]], \"type\": \"heatmap\"}], \"heatmapgl\": [{\"colorbar\": {\"outlinewidth\": 0, \"ticks\": \"\"}, \"colorscale\": [[0.0, \"#0d0887\"], [0.1111111111111111, \"#46039f\"], [0.2222222222222222, \"#7201a8\"], [0.3333333333333333, \"#9c179e\"], [0.4444444444444444, \"#bd3786\"], [0.5555555555555556, \"#d8576b\"], [0.6666666666666666, \"#ed7953\"], [0.7777777777777778, \"#fb9f3a\"], [0.8888888888888888, \"#fdca26\"], [1.0, \"#f0f921\"]], \"type\": \"heatmapgl\"}], \"histogram\": [{\"marker\": {\"colorbar\": {\"outlinewidth\": 0, \"ticks\": \"\"}}, \"type\": \"histogram\"}], \"histogram2d\": [{\"colorbar\": {\"outlinewidth\": 0, \"ticks\": \"\"}, \"colorscale\": [[0.0, \"#0d0887\"], [0.1111111111111111, \"#46039f\"], [0.2222222222222222, \"#7201a8\"], [0.3333333333333333, \"#9c179e\"], [0.4444444444444444, \"#bd3786\"], [0.5555555555555556, \"#d8576b\"], [0.6666666666666666, \"#ed7953\"], [0.7777777777777778, \"#fb9f3a\"], [0.8888888888888888, \"#fdca26\"], [1.0, \"#f0f921\"]], \"type\": \"histogram2d\"}], \"histogram2dcontour\": [{\"colorbar\": {\"outlinewidth\": 0, \"ticks\": \"\"}, \"colorscale\": [[0.0, \"#0d0887\"], [0.1111111111111111, \"#46039f\"], [0.2222222222222222, \"#7201a8\"], [0.3333333333333333, \"#9c179e\"], [0.4444444444444444, \"#bd3786\"], [0.5555555555555556, \"#d8576b\"], [0.6666666666666666, \"#ed7953\"], [0.7777777777777778, \"#fb9f3a\"], [0.8888888888888888, \"#fdca26\"], [1.0, \"#f0f921\"]], \"type\": \"histogram2dcontour\"}], \"mesh3d\": [{\"colorbar\": {\"outlinewidth\": 0, \"ticks\": \"\"}, \"type\": \"mesh3d\"}], \"parcoords\": [{\"line\": {\"colorbar\": {\"outlinewidth\": 0, \"ticks\": \"\"}}, \"type\": \"parcoords\"}], \"pie\": [{\"automargin\": true, \"type\": \"pie\"}], \"scatter\": [{\"marker\": {\"colorbar\": {\"outlinewidth\": 0, \"ticks\": \"\"}}, \"type\": \"scatter\"}], \"scatter3d\": [{\"line\": {\"colorbar\": {\"outlinewidth\": 0, \"ticks\": \"\"}}, \"marker\": {\"colorbar\": {\"outlinewidth\": 0, \"ticks\": \"\"}}, \"type\": \"scatter3d\"}], \"scattercarpet\": [{\"marker\": {\"colorbar\": {\"outlinewidth\": 0, \"ticks\": \"\"}}, \"type\": \"scattercarpet\"}], \"scattergeo\": [{\"marker\": {\"colorbar\": {\"outlinewidth\": 0, \"ticks\": \"\"}}, \"type\": \"scattergeo\"}], \"scattergl\": [{\"marker\": {\"colorbar\": {\"outlinewidth\": 0, \"ticks\": \"\"}}, \"type\": \"scattergl\"}], \"scattermapbox\": [{\"marker\": {\"colorbar\": {\"outlinewidth\": 0, \"ticks\": \"\"}}, \"type\": \"scattermapbox\"}], \"scatterpolar\": [{\"marker\": {\"colorbar\": {\"outlinewidth\": 0, \"ticks\": \"\"}}, \"type\": \"scatterpolar\"}], \"scatterpolargl\": [{\"marker\": {\"colorbar\": {\"outlinewidth\": 0, \"ticks\": \"\"}}, \"type\": \"scatterpolargl\"}], \"scatterternary\": [{\"marker\": {\"colorbar\": {\"outlinewidth\": 0, \"ticks\": \"\"}}, \"type\": \"scatterternary\"}], \"surface\": [{\"colorbar\": {\"outlinewidth\": 0, \"ticks\": \"\"}, \"colorscale\": [[0.0, \"#0d0887\"], [0.1111111111111111, \"#46039f\"], [0.2222222222222222, \"#7201a8\"], [0.3333333333333333, \"#9c179e\"], [0.4444444444444444, \"#bd3786\"], [0.5555555555555556, \"#d8576b\"], [0.6666666666666666, \"#ed7953\"], [0.7777777777777778, \"#fb9f3a\"], [0.8888888888888888, \"#fdca26\"], [1.0, \"#f0f921\"]], \"type\": \"surface\"}], \"table\": [{\"cells\": {\"fill\": {\"color\": \"#EBF0F8\"}, \"line\": {\"color\": \"white\"}}, \"header\": {\"fill\": {\"color\": \"#C8D4E3\"}, \"line\": {\"color\": \"white\"}}, \"type\": \"table\"}]}, \"layout\": {\"annotationdefaults\": {\"arrowcolor\": \"#2a3f5f\", \"arrowhead\": 0, \"arrowwidth\": 1}, \"coloraxis\": {\"colorbar\": {\"outlinewidth\": 0, \"ticks\": \"\"}}, \"colorscale\": {\"diverging\": [[0, \"#8e0152\"], [0.1, \"#c51b7d\"], [0.2, \"#de77ae\"], [0.3, \"#f1b6da\"], [0.4, \"#fde0ef\"], [0.5, \"#f7f7f7\"], [0.6, \"#e6f5d0\"], [0.7, \"#b8e186\"], [0.8, \"#7fbc41\"], [0.9, \"#4d9221\"], [1, \"#276419\"]], \"sequential\": [[0.0, \"#0d0887\"], [0.1111111111111111, \"#46039f\"], [0.2222222222222222, \"#7201a8\"], [0.3333333333333333, \"#9c179e\"], [0.4444444444444444, \"#bd3786\"], [0.5555555555555556, \"#d8576b\"], [0.6666666666666666, \"#ed7953\"], [0.7777777777777778, \"#fb9f3a\"], [0.8888888888888888, \"#fdca26\"], [1.0, \"#f0f921\"]], \"sequentialminus\": [[0.0, \"#0d0887\"], [0.1111111111111111, \"#46039f\"], [0.2222222222222222, \"#7201a8\"], [0.3333333333333333, \"#9c179e\"], [0.4444444444444444, \"#bd3786\"], [0.5555555555555556, \"#d8576b\"], [0.6666666666666666, \"#ed7953\"], [0.7777777777777778, \"#fb9f3a\"], [0.8888888888888888, \"#fdca26\"], [1.0, \"#f0f921\"]]}, \"colorway\": [\"#636efa\", \"#EF553B\", \"#00cc96\", \"#ab63fa\", \"#FFA15A\", \"#19d3f3\", \"#FF6692\", \"#B6E880\", \"#FF97FF\", \"#FECB52\"], \"font\": {\"color\": \"#2a3f5f\"}, \"geo\": {\"bgcolor\": \"white\", \"lakecolor\": \"white\", \"landcolor\": \"#E5ECF6\", \"showlakes\": true, \"showland\": true, \"subunitcolor\": \"white\"}, \"hoverlabel\": {\"align\": \"left\"}, \"hovermode\": \"closest\", \"mapbox\": {\"style\": \"light\"}, \"paper_bgcolor\": \"white\", \"plot_bgcolor\": \"#E5ECF6\", \"polar\": {\"angularaxis\": {\"gridcolor\": \"white\", \"linecolor\": \"white\", \"ticks\": \"\"}, \"bgcolor\": \"#E5ECF6\", \"radialaxis\": {\"gridcolor\": \"white\", \"linecolor\": \"white\", \"ticks\": \"\"}}, \"scene\": {\"xaxis\": {\"backgroundcolor\": \"#E5ECF6\", \"gridcolor\": \"white\", \"gridwidth\": 2, \"linecolor\": \"white\", \"showbackground\": true, \"ticks\": \"\", \"zerolinecolor\": \"white\"}, \"yaxis\": {\"backgroundcolor\": \"#E5ECF6\", \"gridcolor\": \"white\", \"gridwidth\": 2, \"linecolor\": \"white\", \"showbackground\": true, \"ticks\": \"\", \"zerolinecolor\": \"white\"}, \"zaxis\": {\"backgroundcolor\": \"#E5ECF6\", \"gridcolor\": \"white\", \"gridwidth\": 2, \"linecolor\": \"white\", \"showbackground\": true, \"ticks\": \"\", \"zerolinecolor\": \"white\"}}, \"shapedefaults\": {\"line\": {\"color\": \"#2a3f5f\"}}, \"ternary\": {\"aaxis\": {\"gridcolor\": \"white\", \"linecolor\": \"white\", \"ticks\": \"\"}, \"baxis\": {\"gridcolor\": \"white\", \"linecolor\": \"white\", \"ticks\": \"\"}, \"bgcolor\": \"#E5ECF6\", \"caxis\": {\"gridcolor\": \"white\", \"linecolor\": \"white\", \"ticks\": \"\"}}, \"title\": {\"x\": 0.05}, \"xaxis\": {\"automargin\": true, \"gridcolor\": \"white\", \"linecolor\": \"white\", \"ticks\": \"\", \"title\": {\"standoff\": 15}, \"zerolinecolor\": \"white\", \"zerolinewidth\": 2}, \"yaxis\": {\"automargin\": true, \"gridcolor\": \"white\", \"linecolor\": \"white\", \"ticks\": \"\", \"title\": {\"standoff\": 15}, \"zerolinecolor\": \"white\", \"zerolinewidth\": 2}}}, \"title\": {\"text\": \"521xueweihan/GitHub520\"}},                        {\"responsive\": true}                    ).then(function(){\n                            \nvar gd = document.getElementById('fdecdb57-3c80-4baf-93bf-e7df513748b0');\nvar x = new MutationObserver(function (mutations, observer) {{\n        var display = window.getComputedStyle(gd).display;\n        if (!display || display === 'none') {{\n            console.log([gd, 'removed!']);\n            Plotly.purge(gd);\n            observer.disconnect();\n        }}\n}});\n\n// Listen for the removal of the full notebook cells\nvar notebookContainer = gd.closest('#notebook-container');\nif (notebookContainer) {{\n    x.observe(notebookContainer, {childList: true});\n}}\n\n// Listen for the clearing of the current output cell\nvar outputEl = gd.closest('.output');\nif (outputEl) {{\n    x.observe(outputEl, {childList: true});\n}}\n\n                        })                };                });            </script>        </div>"
     },
     "metadata": {},
     "output_type": "display_data"
    }
   ],
   "source": [
    "stats_list = []\n",
    "\n",
    "print (data)\n",
    "\n",
    "# We have data[node] with a clear data frame\n",
    "if data:\n",
    "    for _, repo in data['code'].iterrows():\n",
    "        # if repo['name'] != 'thefuck':\n",
    "        #    continue\n",
    "        # print(repo)\n",
    "        if len(data['issues']) > 0:\n",
    "            repoIssues = data['issues'].loc[(data['issues'].owner == repo['owner']) &  (data['issues'].name == repo['name'])]\n",
    "        else:\n",
    "            repoIssues = None\n",
    "        # print(repoIssues)\n",
    "        if len(data['pulls']) > 0:\n",
    "            repoPulls = data['pulls'].loc[(data['pulls'].owner == repo['owner']) &  (data['pulls'].name == repo['name'])]\n",
    "        else:\n",
    "            repoPulls = None\n",
    "        # print(repoPulls)\n",
    "        if len(data['commits']) > 0:\n",
    "            repoCommits = data['commits'].loc[(data['commits'].owner == repo['owner']) &  (data['commits'].name == repo['name'])]\n",
    "        else:\n",
    "            repoCommits = None\n",
    "        # print(\"Commits:\", repoCommits[['committedDate']].values)\n",
    "\n",
    "        if repoIssues is not None:\n",
    "            issuesClosed = repoIssues.loc[repoIssues['state'] == 'CLOSED']\n",
    "        else:\n",
    "            issuesClosed = None\n",
    "\n",
    "        ############################# POPULARITY ####################################\n",
    "        popularity_list = []\n",
    "\n",
    "        # How many open pull requests are there?\n",
    "        if repoPulls is not None:\n",
    "            openPullsQty = repoPulls.loc[repoPulls['state'] == 'OPEN'].count()['dateTime']\n",
    "        else:\n",
    "            openPullsQty = 0\n",
    "        # print(\"openPullsQty:\", openPullsQty)\n",
    "        p = popularity_calc_pulls(openPullsQty)\n",
    "        popularity_list.append(p)\n",
    "\n",
    "        # How many open issues are there?\n",
    "        if repoIssues is not None:\n",
    "            open_issues_qty = repoIssues.loc[repoIssues['state'] == 'OPEN'].count()['dateTime']\n",
    "        else:\n",
    "            open_issues_qty = 0\n",
    "        # print(\"open issuesQty:\", open_issues_qty)\n",
    "        p = popularity_calc_issues(open_issues_qty)\n",
    "        popularity_list.append(p)\n",
    "\n",
    "        # How many contributors does the project have?\n",
    "        # if repoIssues is not None and repoIssues['participants.totalCount'] is not None:\n",
    "        #     participantsTotalCount = repoIssues['participants.totalCount'].astype(int).sum()\n",
    "        # else:\n",
    "        #     participantsTotalCount = 0\n",
    "        # # print(\"participantsTotalCount:\", participantsTotalCount)\n",
    "        # p = popularity_calc_contribution(participantsTotalCount)\n",
    "        # popularity_list.append(p)\n",
    "\n",
    "        print(popularity_list)\n",
    "        popularity = average(popularity_list)\n",
    "        # print(\"Popularity:\", popularity)\n",
    "        # print('##########################')\n",
    "\n",
    "\n",
    "        ############################# FREQUENCY ####################################\n",
    "        frequency_list = []\n",
    "        # When was the latest commit?\n",
    "        if repoCommits is not None:\n",
    "            f = frequency_calc_score(repoCommits[['committedDate']].values, 'commitFrequency' )\n",
    "        else:\n",
    "            f = 0\n",
    "        frequency_list.append(f)\n",
    "\n",
    "        # Are the issues recent?\n",
    "        if repoIssues is not None:\n",
    "            f = frequency_calc_score(repoIssues[['createdAt']].values, 'issuesRecent' )\n",
    "        else:\n",
    "            f = 0\n",
    "        frequency_list.append(f)\n",
    "\n",
    "        # Are issues getting closed?\n",
    "        if repoIssues is not None:\n",
    "            f = frequency_calc_score(repoIssues.loc[repoIssues['state'] == 'CLOSED'][['closedAt']].values, 'issuesGettingClosed' )\n",
    "        else:\n",
    "            f = 0\n",
    "        frequency_list.append(f)\n",
    "\n",
    "        # Are issues closed quickly?\n",
    "        if issuesClosed is not None:\n",
    "            print (issuesClosed)\n",
    "            f = frequency_calc_score_close_time_issue(issuesClosed[['closedAt', 'comments.data']])\n",
    "        else:\n",
    "            f = 0\n",
    "        frequency_list.append(f)\n",
    "\n",
    "        # Do maintainers respond quickly to issues when they are opened?\n",
    "        if repoIssues is not None:\n",
    "            f = frequency_calc_score_response_time_issue(repoIssues[['createdAt', 'comments.data']])\n",
    "        else:\n",
    "            f = 0\n",
    "        frequency_list.append(f)\n",
    "\n",
    "        # Do maintainers respond quickly to pull requests when they are opened?\n",
    "        # print(repoPulls[['createdAt', 'comments.data']])\n",
    "        if repoPulls is not None:\n",
    "            f = frequency_calc_score_response_time_pull(repoPulls[['createdAt', 'comments.data']])\n",
    "        else:\n",
    "            f = 0\n",
    "        frequency_list.append(f)\n",
    "\n",
    "        # Are the pull requests recent?\n",
    "        if repoPulls is not None:\n",
    "            f = frequency_calc_score(repoPulls[['createdAt']].values, 'pullsRecent' )\n",
    "        else:\n",
    "            f = 0\n",
    "        frequency_list.append(f)\n",
    "\n",
    "        # How recently were any pull requests merged?\n",
    "        if repoPulls is not None:\n",
    "            f = frequency_calc_score(repoPulls.loc[repoPulls['state'] == 'MERGED'][['mergedAt']].values, 'pullsGettingMerged' )\n",
    "        else:\n",
    "            f = 0\n",
    "        frequency_list.append(f)\n",
    "\n",
    "        frequency = average(frequency_list)\n",
    "        # print(\"Frequency:\", frequency)\n",
    "        # print('##########################')\n",
    "\n",
    "\n",
    "        ############################# DEFINITION OOS ####################################\n",
    "        definitionOSS = definition_oos_calc(repo)\n",
    "        # print(definitionOSS)\n",
    "\n",
    "        ############################# QUALITY ####################################\n",
    "        quality = 0.5\n",
    "\n",
    "        ############################# FRIENDLY ####################################\n",
    "        friendly = 0.5\n",
    "\n",
    "\n",
    "        stats = {\n",
    "            'dateTime': datetime.datetime.now().strftime(date_format),\n",
    "            'frequency': round(frequency, 2),\n",
    "            'definitionOSS': round(definitionOSS, 2),\n",
    "            'popularity': round(popularity, 2),\n",
    "            'friendly': round(friendly, 2),\n",
    "            'quality': round(quality, 2),\n",
    "            'name': repo['name'],\n",
    "            'owner': repo['owner'],\n",
    "            'provider': provider,\n",
    "            'language': repo['languages']\n",
    "        }\n",
    "        stats_list.append(stats)\n",
    "\n",
    "        df = pd.DataFrame(dict(\n",
    "            r=[frequency, definitionOSS, 5, popularity, 5],\n",
    "            theta=['Frequency','Definition of OSS','Friendly',\n",
    "                   'Popularity', 'Quality']))\n",
    "        fig = px.line_polar(df, r='r', theta='theta', line_close=True)\n",
    "        fig.update_layout(\n",
    "            title = repo['owner'] + '/' + repo['name'],\n",
    "            polar=dict(\n",
    "                radialaxis=dict(\n",
    "                visible=True,\n",
    "                  range=[0, 101]\n",
    "                )),\n",
    "            showlegend=False\n",
    "        )\n",
    "        fig.show()\n",
    "        # break"
   ],
   "metadata": {
    "collapsed": false,
    "pycharm": {
     "name": "#%% Analysis\n"
    }
   }
  },
  {
   "cell_type": "code",
   "execution_count": 61,
   "outputs": [
    {
     "name": "stdout",
     "output_type": "stream",
     "text": [
      "[{'dateTime': '2021-03-22T12:30:59', 'frequency': 50.32, 'definitionOSS': 15.0, 'popularity': 50.0, 'friendly': 0.5, 'quality': 0.5, 'name': 'GitHub520', 'owner': '521xueweihan', 'provider': '521xueweihan_GitHub520', 'language': ['Python']}]\n",
      "{'code': 'DATA_CREATED', 'message': 'State point batch created', 'error': '', 'data': [{'dateTime': '2021-03-22T12:30:59.000+00:00', 'tags': {'category': 'CXF', 'dono': 'o:521xueweihan', 'name': 'n:GitHub520', 'provider': '521xueweihan_GitHub520'}, 'fields': {'definitionOSS': '15', 'frequency': '50.32', 'friendly': '0.5', 'popularity': '50', 'quality': '0.5', 'rawData': 'https://agrows-file-server-r3.labbs.com.br/owner/githunter/thing/521xueweihan_GitHub520/node/json/datajson/b01d3d39-f548-49ef-9f6d-467d6939fb27', 'type': 'repositoryStats'}}]}\n"
     ]
    }
   ],
   "source": [
    "    print (stats_list)\n",
    "    sr = save_data(provider, stats_list)\n",
    "    print(sr)"
   ],
   "metadata": {
    "collapsed": false,
    "pycharm": {
     "name": "#%% Save\n"
    }
   }
  }
 ],
 "metadata": {
  "kernelspec": {
   "name": "pycharm-36920f3d",
   "language": "python",
   "display_name": "PyCharm (jupyter)"
  },
  "language_info": {
   "codemirror_mode": {
    "name": "ipython",
    "version": 2
   },
   "file_extension": ".py",
   "mimetype": "text/x-python",
   "name": "python",
   "nbconvert_exporter": "python",
   "pygments_lexer": "ipython2",
   "version": "2.7.6"
  }
 },
 "nbformat": 4,
 "nbformat_minor": 0
}