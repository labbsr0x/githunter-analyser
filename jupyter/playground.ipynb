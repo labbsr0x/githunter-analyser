{
 "cells": [
  {
   "cell_type": "code",
   "execution_count": 2,
   "outputs": [],
   "source": [
    "import matplotlib.pyplot as plt\n",
    "from numpy import ones,vstack\n",
    "from numpy.linalg import lstsq\n",
    "import datetime\n",
    "import pandas as pd\n",
    "from pandas.io.json import json_normalize"
   ],
   "metadata": {
    "collapsed": false,
    "pycharm": {
     "name": "#%%\n"
    }
   }
  },
  {
   "cell_type": "code",
   "execution_count": 10,
   "outputs": [
    {
     "name": "stdout",
     "output_type": "stream",
     "text": [
      "Line Solution is y = -0.9523809523809522x + 105.7142857142857\n",
      "85.7142857142857\n"
     ]
    },
    {
     "name": "stderr",
     "output_type": "stream",
     "text": [
      "/Users/rafaelmmartins/Library/Python/3.7/lib/python/site-packages/ipykernel_launcher.py:4: FutureWarning: `rcond` parameter will change to the default of machine precision times ``max(M, N)`` where M and N are the input matrix dimensions.\n",
      "To use the future default and silence this warning we advise to pass `rcond=None`, to keep using the old, explicitly pass `rcond=-1`.\n",
      "  after removing the cwd from sys.path.\n"
     ]
    }
   ],
   "source": [
    "points = [(48, 60), (6, 100)]\n",
    "x_coords, y_coords = zip(*points)\n",
    "A = vstack([x_coords,ones(len(x_coords))]).T\n",
    "m, c = lstsq(A, y_coords)[0]\n",
    "print(\"Line Solution is y = {m}x + {c}\".format(m=m,c=c))\n",
    "\n",
    "score = m * 21 + c\n",
    "print (score)"
   ],
   "metadata": {
    "collapsed": false,
    "pycharm": {
     "name": "#%%\n"
    }
   }
  },
  {
   "cell_type": "code",
   "execution_count": 8,
   "outputs": [
    {
     "name": "stdout",
     "output_type": "stream",
     "text": [
      "2021-09-15 23:59:59-03:00\n"
     ]
    }
   ],
   "source": [
    "date_string = '2021-09-15T23:59:59-03:00'\n",
    "date_format = '%Y-%m-%dT%H:%M:%S%z'\n",
    "date = datetime.datetime.strptime(date_string, date_format)\n",
    "print(date)\n"
   ],
   "metadata": {
    "collapsed": false,
    "pycharm": {
     "name": "#%%\n"
    }
   }
  },
  {
   "cell_type": "code",
   "execution_count": 29,
   "outputs": [
    {
     "name": "stdout",
     "output_type": "stream",
     "text": [
      "Delta:  2020-09-20 19:32:34-03:00 2020-09-20 22:16:15-03:00 2:43:41\n",
      "Delta:  2020-09-21 09:51:50-03:00 2020-09-21 10:02:13-03:00 0:10:23\n",
      "Delta:  2020-09-21 10:12:51-03:00 2020-09-19 08:35:35-03:00 2 days, 1:37:16\n",
      "Delta:  2020-09-19 13:35:14-03:00 2020-09-19 10:53:24-03:00 2:41:50\n",
      "Delta:  2020-09-19 16:48:11-03:00 2020-09-19 12:52:32-03:00 3:55:39\n",
      "5.914694444444446\n"
     ]
    }
   ],
   "source": [
    "date_format = '%Y-%m-%dT%H:%M:%S%z'\n",
    "def format_date(_date_string):\n",
    "    _date_obj = datetime.datetime.strptime(_date_string, date_format)\n",
    "    return _date_obj\n",
    "\n",
    "_list = ['2020-09-20T19:32:34-03:00',\n",
    " '2020-09-20T22:16:15-03:00',\n",
    " '2020-09-21T09:51:50-03:00',\n",
    " '2020-09-21T10:02:13-03:00',\n",
    " '2020-09-21T10:12:51-03:00',\n",
    " '2020-09-19T08:35:35-03:00',\n",
    " '2020-09-19T13:35:14-03:00',\n",
    " '2020-09-19T10:53:24-03:00',\n",
    " '2020-09-19T16:48:11-03:00',\n",
    " '2020-09-19T12:52:32-03:00']\n",
    "_frequency = 0\n",
    "for index, value in enumerate(_list):\n",
    "    if index % 2 == 0:\n",
    "        continue\n",
    "    _date_a = format_date(_list[index-1])\n",
    "    _date_b = format_date(_list[index])\n",
    "    _delta = _date_a - _date_b\n",
    "    if _delta.total_seconds() < 0:\n",
    "        _delta = _date_b - _date_a\n",
    "    print(\"Delta: \",_date_a, _date_b, _delta)\n",
    "    _frequency = _frequency + _delta.total_seconds()\n",
    "_frequency = (_frequency/len(_list)) / 60 / 60\n",
    "print(_frequency)\n",
    "\n"
   ],
   "metadata": {
    "collapsed": false,
    "pycharm": {
     "name": "#%%\n"
    }
   }
  },
  {
   "cell_type": "code",
   "execution_count": 11,
   "outputs": [
    {
     "data": {
      "text/plain": "datetime.datetime(2020, 9, 22, 14, 55, 10, 636569, tzinfo=datetime.timezone(datetime.timedelta(days=-1, seconds=75600), '-03'))"
     },
     "execution_count": 11,
     "metadata": {},
     "output_type": "execute_result"
    }
   ],
   "source": [
    "datetime.datetime.now().replace(tzinfo=datetime.timezone.utc).astimezone(tz=None)"
   ],
   "metadata": {
    "collapsed": false,
    "pycharm": {
     "name": "#%%\n"
    }
   }
  },
  {
   "cell_type": "code",
   "execution_count": 9,
   "outputs": [
    {
     "name": "stderr",
     "output_type": "stream",
     "text": [
      "/Users/rafaelmmartins/Library/Python/3.7/lib/python/site-packages/ipykernel_launcher.py:23: FutureWarning: pandas.io.json.json_normalize is deprecated, use pandas.json_normalize instead\n"
     ]
    },
    {
     "ename": "AttributeError",
     "evalue": "'str' object has no attribute 'values'",
     "output_type": "error",
     "traceback": [
      "\u001B[0;31m---------------------------------------------------------------------------\u001B[0m",
      "\u001B[0;31mAttributeError\u001B[0m                            Traceback (most recent call last)",
      "\u001B[0;32m<ipython-input-9-8d92e35f445e>\u001B[0m in \u001B[0;36m<module>\u001B[0;34m\u001B[0m\n\u001B[1;32m     21\u001B[0m }\n\u001B[1;32m     22\u001B[0m \u001B[0;34m\u001B[0m\u001B[0m\n\u001B[0;32m---> 23\u001B[0;31m \u001B[0mdf\u001B[0m \u001B[0;34m=\u001B[0m \u001B[0mjson_normalize\u001B[0m\u001B[0;34m(\u001B[0m\u001B[0;34m[\u001B[0m\u001B[0;34m'author'\u001B[0m\u001B[0;34m,\u001B[0m \u001B[0;34m'number'\u001B[0m\u001B[0;34m,\u001B[0m \u001B[0;34m'labels'\u001B[0m\u001B[0;34m,\u001B[0m \u001B[0;34m'state'\u001B[0m\u001B[0;34m]\u001B[0m\u001B[0;34m)\u001B[0m\u001B[0;34m\u001B[0m\u001B[0;34m\u001B[0m\u001B[0m\n\u001B[0m\u001B[1;32m     24\u001B[0m \u001B[0mprint\u001B[0m \u001B[0;34m(\u001B[0m\u001B[0mdf\u001B[0m\u001B[0;34m)\u001B[0m\u001B[0;34m\u001B[0m\u001B[0;34m\u001B[0m\u001B[0m\n\u001B[1;32m     25\u001B[0m \u001B[0;34m\u001B[0m\u001B[0m\n",
      "\u001B[0;32m/usr/local/lib/python3.7/site-packages/pandas/util/_decorators.py\u001B[0m in \u001B[0;36mwrapper\u001B[0;34m(*args, **kwargs)\u001B[0m\n\u001B[1;32m     50\u001B[0m     \u001B[0;32mdef\u001B[0m \u001B[0mwrapper\u001B[0m\u001B[0;34m(\u001B[0m\u001B[0;34m*\u001B[0m\u001B[0margs\u001B[0m\u001B[0;34m,\u001B[0m \u001B[0;34m**\u001B[0m\u001B[0mkwargs\u001B[0m\u001B[0;34m)\u001B[0m \u001B[0;34m->\u001B[0m \u001B[0mCallable\u001B[0m\u001B[0;34m[\u001B[0m\u001B[0;34m...\u001B[0m\u001B[0;34m,\u001B[0m \u001B[0mAny\u001B[0m\u001B[0;34m]\u001B[0m\u001B[0;34m:\u001B[0m\u001B[0;34m\u001B[0m\u001B[0;34m\u001B[0m\u001B[0m\n\u001B[1;32m     51\u001B[0m         \u001B[0mwarnings\u001B[0m\u001B[0;34m.\u001B[0m\u001B[0mwarn\u001B[0m\u001B[0;34m(\u001B[0m\u001B[0mwarning_msg\u001B[0m\u001B[0;34m,\u001B[0m \u001B[0mklass\u001B[0m\u001B[0;34m,\u001B[0m \u001B[0mstacklevel\u001B[0m\u001B[0;34m=\u001B[0m\u001B[0mstacklevel\u001B[0m\u001B[0;34m)\u001B[0m\u001B[0;34m\u001B[0m\u001B[0;34m\u001B[0m\u001B[0m\n\u001B[0;32m---> 52\u001B[0;31m         \u001B[0;32mreturn\u001B[0m \u001B[0malternative\u001B[0m\u001B[0;34m(\u001B[0m\u001B[0;34m*\u001B[0m\u001B[0margs\u001B[0m\u001B[0;34m,\u001B[0m \u001B[0;34m**\u001B[0m\u001B[0mkwargs\u001B[0m\u001B[0;34m)\u001B[0m\u001B[0;34m\u001B[0m\u001B[0;34m\u001B[0m\u001B[0m\n\u001B[0m\u001B[1;32m     53\u001B[0m \u001B[0;34m\u001B[0m\u001B[0m\n\u001B[1;32m     54\u001B[0m     \u001B[0;31m# adding deprecated directive to the docstring\u001B[0m\u001B[0;34m\u001B[0m\u001B[0;34m\u001B[0m\u001B[0;34m\u001B[0m\u001B[0m\n",
      "\u001B[0;32m/usr/local/lib/python3.7/site-packages/pandas/io/json/_normalize.py\u001B[0m in \u001B[0;36m_json_normalize\u001B[0;34m(data, record_path, meta, meta_prefix, record_prefix, errors, sep, max_level)\u001B[0m\n\u001B[1;32m    268\u001B[0m \u001B[0;34m\u001B[0m\u001B[0m\n\u001B[1;32m    269\u001B[0m     \u001B[0;32mif\u001B[0m \u001B[0mrecord_path\u001B[0m \u001B[0;32mis\u001B[0m \u001B[0;32mNone\u001B[0m\u001B[0;34m:\u001B[0m\u001B[0;34m\u001B[0m\u001B[0;34m\u001B[0m\u001B[0m\n\u001B[0;32m--> 270\u001B[0;31m         \u001B[0;32mif\u001B[0m \u001B[0many\u001B[0m\u001B[0;34m(\u001B[0m\u001B[0;34m[\u001B[0m\u001B[0misinstance\u001B[0m\u001B[0;34m(\u001B[0m\u001B[0mx\u001B[0m\u001B[0;34m,\u001B[0m \u001B[0mdict\u001B[0m\u001B[0;34m)\u001B[0m \u001B[0;32mfor\u001B[0m \u001B[0mx\u001B[0m \u001B[0;32min\u001B[0m \u001B[0my\u001B[0m\u001B[0;34m.\u001B[0m\u001B[0mvalues\u001B[0m\u001B[0;34m(\u001B[0m\u001B[0;34m)\u001B[0m\u001B[0;34m]\u001B[0m \u001B[0;32mfor\u001B[0m \u001B[0my\u001B[0m \u001B[0;32min\u001B[0m \u001B[0mdata\u001B[0m\u001B[0;34m)\u001B[0m\u001B[0;34m:\u001B[0m\u001B[0;34m\u001B[0m\u001B[0;34m\u001B[0m\u001B[0m\n\u001B[0m\u001B[1;32m    271\u001B[0m             \u001B[0;31m# naive normalization, this is idempotent for flat records\u001B[0m\u001B[0;34m\u001B[0m\u001B[0;34m\u001B[0m\u001B[0;34m\u001B[0m\u001B[0m\n\u001B[1;32m    272\u001B[0m             \u001B[0;31m# and potentially will inflate the data considerably for\u001B[0m\u001B[0;34m\u001B[0m\u001B[0;34m\u001B[0m\u001B[0;34m\u001B[0m\u001B[0m\n",
      "\u001B[0;32m/usr/local/lib/python3.7/site-packages/pandas/io/json/_normalize.py\u001B[0m in \u001B[0;36m<genexpr>\u001B[0;34m(.0)\u001B[0m\n\u001B[1;32m    268\u001B[0m \u001B[0;34m\u001B[0m\u001B[0m\n\u001B[1;32m    269\u001B[0m     \u001B[0;32mif\u001B[0m \u001B[0mrecord_path\u001B[0m \u001B[0;32mis\u001B[0m \u001B[0;32mNone\u001B[0m\u001B[0;34m:\u001B[0m\u001B[0;34m\u001B[0m\u001B[0;34m\u001B[0m\u001B[0m\n\u001B[0;32m--> 270\u001B[0;31m         \u001B[0;32mif\u001B[0m \u001B[0many\u001B[0m\u001B[0;34m(\u001B[0m\u001B[0;34m[\u001B[0m\u001B[0misinstance\u001B[0m\u001B[0;34m(\u001B[0m\u001B[0mx\u001B[0m\u001B[0;34m,\u001B[0m \u001B[0mdict\u001B[0m\u001B[0;34m)\u001B[0m \u001B[0;32mfor\u001B[0m \u001B[0mx\u001B[0m \u001B[0;32min\u001B[0m \u001B[0my\u001B[0m\u001B[0;34m.\u001B[0m\u001B[0mvalues\u001B[0m\u001B[0;34m(\u001B[0m\u001B[0;34m)\u001B[0m\u001B[0;34m]\u001B[0m \u001B[0;32mfor\u001B[0m \u001B[0my\u001B[0m \u001B[0;32min\u001B[0m \u001B[0mdata\u001B[0m\u001B[0;34m)\u001B[0m\u001B[0;34m:\u001B[0m\u001B[0;34m\u001B[0m\u001B[0;34m\u001B[0m\u001B[0m\n\u001B[0m\u001B[1;32m    271\u001B[0m             \u001B[0;31m# naive normalization, this is idempotent for flat records\u001B[0m\u001B[0;34m\u001B[0m\u001B[0;34m\u001B[0m\u001B[0;34m\u001B[0m\u001B[0m\n\u001B[1;32m    272\u001B[0m             \u001B[0;31m# and potentially will inflate the data considerably for\u001B[0m\u001B[0;34m\u001B[0m\u001B[0;34m\u001B[0m\u001B[0;34m\u001B[0m\u001B[0m\n",
      "\u001B[0;31mAttributeError\u001B[0m: 'str' object has no attribute 'values'"
     ]
    }
   ],
   "source": [
    "data = {\n",
    "   \"author\":\"proxysu\",\n",
    "   \"closedAt\":\"2020-03-10T23:53:24Z\",\n",
    "   \"comments\":{\n",
    "      \"data\":\"None\",\n",
    "      \"totalCount\":0,\n",
    "      \"updatedAt\":\"\"\n",
    "   },\n",
    "   \"createdAt\":\"2020-03-10T23:51:41Z\",\n",
    "   \"labels\":\"None\",\n",
    "   \"merged\":True,\n",
    "   \"mergedAt\":\"2020-03-10T23:53:24Z\",\n",
    "   \"number\":1,\n",
    "   \"participants\":{\n",
    "      \"totalCount\":1,\n",
    "      \"users\":[\n",
    "         \"proxysu\"\n",
    "      ]\n",
    "   },\n",
    "   \"state\":\"MERGED\"\n",
    "}\n",
    "\n",
    "df = json_normalize(['author', 'number', 'labels', 'state'])\n",
    "print (df)\n",
    "\n",
    "# df = pd.DataFrame(data)\n",
    "# df\n",
    "# normalized_df = json_normalize(df['participants'])\n",
    "#\n",
    "# def flattenColumn(input, column):\n",
    "#     column_flat = pd.DataFrame([[i, c_flattened] for i, y in input[column].apply(list).iteritems() for c_flattened in y], columns=['I', column])\n",
    "#     column_flat = column_flat.set_index('I')\n",
    "#     return input.drop(column, 1).merge(column_flat, left_index=True, right_index=True)\n",
    "#\n",
    "# new_df = flattenColumn(normalized_df, 'users')"
   ],
   "metadata": {
    "collapsed": false,
    "pycharm": {
     "name": "#%%\n"
    }
   }
  }
 ],
 "metadata": {
  "kernelspec": {
   "name": "pycharm-36920f3d",
   "language": "python",
   "display_name": "PyCharm (jupyter)"
  },
  "language_info": {
   "codemirror_mode": {
    "name": "ipython",
    "version": 2
   },
   "file_extension": ".py",
   "mimetype": "text/x-python",
   "name": "python",
   "nbconvert_exporter": "python",
   "pygments_lexer": "ipython2",
   "version": "2.7.6"
  }
 },
 "nbformat": 4,
 "nbformat_minor": 0
}