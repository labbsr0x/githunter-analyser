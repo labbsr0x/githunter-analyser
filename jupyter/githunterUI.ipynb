{
 "cells": [
  {
   "cell_type": "code",
   "execution_count": null,
   "outputs": [],
   "source": [
    "import requests\n",
    "import json\n",
    "import pandas as pd\n",
    "import ipywidgets as w\n",
    "import ipython_blocking"
   ],
   "metadata": {
    "collapsed": false,
    "pycharm": {
     "name": "#%% imports\n"
    }
   }
  },
  {
   "cell_type": "code",
   "execution_count": null,
   "outputs": [],
   "source": [
    "client_id = '07bd2676-f950-48c0-8b12-ebd5e8b1491d'\n",
    "client_secret = 'b874aa02-4333-4a4a-be10-55b44fc94eb3'\n"
   ],
   "metadata": {
    "collapsed": false,
    "pycharm": {
     "name": "#%% params\n"
    }
   }
  },
  {
   "cell_type": "code",
   "execution_count": null,
   "outputs": [],
   "source": [
    "def auth():\n",
    "    _auth_url = 'http://agrows-keycloak.labbs.com.br/auth/realms/agroWS/protocol/openid-connect/token'\n",
    "    _auth_data = {\n",
    "        'client_id': client_id,\n",
    "        'client_secret': client_secret,\n",
    "        'grant_type': 'client_credentials'\n",
    "    }\n",
    "    _auth_headers = {\n",
    "        'Content-Type': 'application/x-www-form-urlencoded'\n",
    "    }\n",
    "    _auth_request = requests.post(_auth_url, data=_auth_data, headers=_auth_headers)\n",
    "    return json.loads(_auth_request.text)['access_token']"
   ],
   "metadata": {
    "collapsed": false,
    "pycharm": {
     "name": "#%% auth\n"
    }
   }
  },
  {
   "cell_type": "code",
   "execution_count": null,
   "outputs": [],
   "source": [
    "def load_data(_owner, _thing, _node, _token, _start_date, _end_date):\n",
    "    _data_api_url = f'https://agrows-data-api.labbs.com.br/v1/owner/{_owner}/thing/{_thing}/node/{_node}'\n",
    "    _data_api_params = {\n",
    "        'startDateTime': _start_date,\n",
    "        'endDateTime': _end_date\n",
    "    }\n",
    "    _data_api_headers = {\n",
    "        'content-type': 'application/json',\n",
    "        'Authorization' : f'Bearer {_token}'\n",
    "    }\n",
    "    _data_api_request = requests.get(_data_api_url, params=_data_api_params, headers=_data_api_headers)\n",
    "    _data = json.loads(_data_api_request.text)['data']\n",
    "    # data_source = json.dumps(data, indent=4, sort_keys=True)\n",
    "    return _data"
   ],
   "metadata": {
    "collapsed": false,
    "pycharm": {
     "name": "#%% request data\n"
    }
   }
  },
  {
   "cell_type": "code",
   "execution_count": null,
   "outputs": [],
   "source": [
    "def load_mongo_data(_repoList):\n",
    "    _data_api_url = f'http://localhost:3005/'\n",
    "    _data_api_params = {\n",
    "        'repoList': _repoList\n",
    "    }\n",
    "    _data_api_headers = {\n",
    "        'content-type': 'application/json'\n",
    "    }\n",
    "    _data_api_request = requests.get(_data_api_url, params=_data_api_params, headers=_data_api_headers)\n",
    "    _data = json.loads(_data_api_request.text)['data']\n",
    "    print(_data)\n",
    "    # data_source = json.dumps(data, indent=4, sort_keys=True)\n",
    "    return _data"
   ],
   "metadata": {
    "collapsed": false,
    "pycharm": {
     "name": "#%% request Mongo data\n"
    }
   }
  },
  {
   "cell_type": "code",
   "execution_count": null,
   "outputs": [],
   "source": [
    "def btn_click(evt):\n",
    "    _start_date = str(start_date_widget.value) + 'T00:00:00-03:00'\n",
    "    _end_date = str(end_date_widget.value) + 'T23:59:59-03:00'\n",
    "    _owner = owner_widget.value\n",
    "    _thing = thing_widget.value\n",
    "    _node = node_widget.value\n",
    "    _data = load_data(owner, thing, node, auth(), start_date, end_date)\n",
    "    _data_source = [{'dateTime': x['dateTime'], 'owner': x['owner'],'thing': x['thing'],'node': x['node'], **x.get('attributes')} for x in data]\n",
    "    _df = pd.DataFrame.from_dict(_data_source)\n",
    "    display(_df)\n",
    "    return _df"
   ],
   "metadata": {
    "collapsed": false,
    "pycharm": {
     "name": "#%% Pandas\n"
    }
   }
  },
  {
   "cell_type": "code",
   "execution_count": null,
   "outputs": [],
   "source": [
    "owner_widget = w.Dropdown(\n",
    "    options=['gitfeed'],\n",
    "    value='gitfeed',\n",
    "    description='Owner:',\n",
    "    disabled=False,\n",
    ")\n",
    "thing_widget = w.Dropdown(\n",
    "    options=['github', 'gitlab'],\n",
    "    value='github',\n",
    "    description='Provider:',\n",
    "    disabled=False,\n",
    ")\n",
    "node_widget = w.Dropdown(\n",
    "    options=['pulls', 'issues', 'commits', 'userStatsV1'],\n",
    "    value='pulls',\n",
    "    description='Node:',\n",
    "    disabled=False,\n",
    ")\n",
    "start_date_widget = w.DatePicker(\n",
    "    description='Start Date',\n",
    "    disabled=False\n",
    ")\n",
    "end_date_widget = w.DatePicker(\n",
    "    description='End Date',\n",
    "    disabled=False\n",
    ")\n",
    "\n",
    "search_btn = w.Button(\n",
    "    description='Pesquisar',\n",
    "    disabled=False,\n",
    "    button_style='success',\n",
    "    tooltip='Pesquisar',\n",
    "    icon='check'\n",
    ")\n",
    "display(start_date_widget, end_date_widget, search_btn)\n",
    "# search_btn.on_click(btn_click)"
   ],
   "metadata": {
    "collapsed": false,
    "pycharm": {
     "name": "#%% read start_date from user\n"
    }
   }
  },
  {
   "cell_type": "code",
   "execution_count": null,
   "outputs": [],
   "source": [
    "%blockrun search_btn\n",
    "\n",
    "start_date = str(start_date_widget.value) + 'T00:00:00-03:00'\n",
    "end_date = str(end_date_widget.value) + 'T23:59:59-03:00'\n",
    "owner = owner_widget.value\n",
    "thing = thing_widget.value\n",
    "node = node_widget.value\n",
    "data = load_data(owner, thing, node, auth(), start_date, end_date)\n",
    "data_source = [{'dateTime': x['dateTime'], 'owner': x['owner'],'thing': x['thing'],'node': x['node'], **x.get('attributes')} for x in data]\n",
    "df = pd.DataFrame.from_dict(data_source)"
   ],
   "metadata": {
    "collapsed": false,
    "pycharm": {
     "name": "#%%\n"
    }
   }
  }
 ],
 "metadata": {
  "kernelspec": {
   "display_name": "Python 3",
   "language": "python",
   "name": "python3"
  },
  "language_info": {
   "codemirror_mode": {
    "name": "ipython",
    "version": 2
   },
   "file_extension": ".py",
   "mimetype": "text/x-python",
   "name": "python",
   "nbconvert_exporter": "python",
   "pygments_lexer": "ipython2",
   "version": "2.7.6"
  }
 },
 "nbformat": 4,
 "nbformat_minor": 0
}